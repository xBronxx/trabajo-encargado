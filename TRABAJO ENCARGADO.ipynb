{
 "cells": [
  {
   "cell_type": "code",
   "execution_count": 26,
   "id": "976ecee5",
   "metadata": {},
   "outputs": [],
   "source": [
    "import pandas as pd\n",
    "import numpy as np\n",
    "import matplotlib.pyplot as ptl\n",
    "import seaborn as sns\n",
    "from urllib.request import urlopen\n",
    "from bs4 import BeautifulSoup as soup\n",
    "import requests"
   ]
  },
  {
   "cell_type": "code",
   "execution_count": 2,
   "id": "a6fda77a",
   "metadata": {},
   "outputs": [
    {
     "name": "stdout",
     "output_type": "stream",
     "text": [
      "['Hoja1', 'Hoja2', 'Hoja3']\n"
     ]
    }
   ],
   "source": [
    "xlsx=pd.ExcelFile('proteinas.xlsx')\n",
    "print(xlsx.sheet_names)"
   ]
  },
  {
   "cell_type": "code",
   "execution_count": 3,
   "id": "6f1f6d1d",
   "metadata": {},
   "outputs": [
    {
     "name": "stdout",
     "output_type": "stream",
     "text": [
      "['Hoja1', 'Hoja2', 'Hoja3']\n"
     ]
    }
   ],
   "source": [
    "paginas=xlsx.sheet_names\n",
    "print(paginas)"
   ]
  },
  {
   "cell_type": "code",
   "execution_count": 24,
   "id": "6d640504",
   "metadata": {},
   "outputs": [
    {
     "name": "stdout",
     "output_type": "stream",
     "text": [
      "['TRNAS-GGA', 'LOC102173449', 'LOC102169333', 'LOC108636757', 'LOC102187712']\n",
      "['LOC106503629', 'C2H1orf64', 'CLCNKA', 'HSPB7', 'FAM131C']\n",
      "['RNF32', 'LOC106502075', 'SHH', 'RBM33', 'CNPY1']\n"
     ]
    }
   ],
   "source": [
    "for i in paginas:\n",
    "    df=xlsx.parse(i)\n",
    "    #print(df)\n",
    "    #print(df['Gen Abrev'])\n",
    "    #prot=df['Gen Abrev']\n",
    "    #print(prot)\n",
    "    valores_gen=df['Gen Abrev'].tolist()\n",
    "    print(valores_gen)\n",
    "    \n",
    "\n"
   ]
  },
  {
   "cell_type": "code",
   "execution_count": 25,
   "id": "fba60913",
   "metadata": {},
   "outputs": [
    {
     "name": "stdout",
     "output_type": "stream",
     "text": [
      "['RNF32', 'LOC106502075', 'SHH', 'RBM33', 'CNPY1']\n"
     ]
    }
   ],
   "source": [
    "url=\"https://www.uniprot.org/uniprot/?query=clcnka+capra+hircus\"\n",
    "uclient=urlopen(url)\n",
    "pagehtml=uclient.read()\n",
    "uclient.close()\n",
    "print(pagehtml)\n",
    "y=re.findall('\\$[A-Z0-9]+',pagehtml)\n",
    "print(y)"
   ]
  }
 ],
 "metadata": {
  "kernelspec": {
   "display_name": "Python 3",
   "language": "python",
   "name": "python3"
  },
  "language_info": {
   "codemirror_mode": {
    "name": "ipython",
    "version": 3
   },
   "file_extension": ".py",
   "mimetype": "text/x-python",
   "name": "python",
   "nbconvert_exporter": "python",
   "pygments_lexer": "ipython3",
   "version": "3.8.8"
  }
 },
 "nbformat": 4,
 "nbformat_minor": 5
}
